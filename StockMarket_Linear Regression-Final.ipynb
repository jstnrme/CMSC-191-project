{
 "cells": [
  {
   "cell_type": "code",
   "execution_count": 27,
   "metadata": {},
   "outputs": [],
   "source": [
    "import csv\n",
    "import numpy as np\n",
    "from sklearn import linear_model\n",
    "from sklearn.linear_model import LinearRegression\n",
    "import matplotlib.pyplot as plt"
   ]
  },
  {
   "cell_type": "code",
   "execution_count": 28,
   "metadata": {},
   "outputs": [],
   "source": [
    "dates =[]\n",
    "prices = []\n",
    "\n",
    "def get_data(Jollibee):\n",
    "    with open('C:\\\\Users\\\\User\\\\Desktop\\\\Python stuff\\\\Jollibee.csv', 'r') as csvfile:\n",
    "        csvFileReader = csv.reader(csvfile)\n",
    "        next(csvFileReader) #skipping column names\n",
    "        for row in csvFileReader:\n",
    "            dates.append(int(row[0]))\n",
    "            prices.append(float(row[1]))\n",
    "    return"
   ]
  },
  {
   "cell_type": "code",
   "execution_count": 29,
   "metadata": {},
   "outputs": [],
   "source": [
    "def predict_price(dates,prices,x):\n",
    "    linear_mod = linear_model.LinearRegression() #defining the linear regression model\n",
    "    dates = np.reshape(dates,(len(dates),1)) # converting to matrix of n X 1\n",
    "    prices = np.reshape(prices,(len(prices),1))\n",
    "    linear_mod.fit(dates,prices) #fitting the data points in the model\n",
    "    predicted_price =linear_mod.predict([[x]])\n",
    "    return predicted_price[0][0],linear_mod.coef_[0][0] ,linear_mod.intercept_[0]"
   ]
  },
  {
   "cell_type": "code",
   "execution_count": 30,
   "metadata": {},
   "outputs": [],
   "source": [
    "def show_plot(dates,prices):\n",
    "    linear_mod = linear_model.LinearRegression()\n",
    "    dates = np.reshape(dates,(len(dates),1)) # converting to matrix of n X 1\n",
    "    prices = np.reshape(prices,(len(prices),1))\n",
    "    linear_mod.fit(dates,prices) #fitting the data points in the model\n",
    "    plt.scatter(dates,prices,color='yellow') #plotting the initial datapoints \n",
    "    plt.plot(dates,linear_mod.predict(dates),color='blue',linewidth=3) #plotting the line made by linear regression\n",
    "    plt.show()\n",
    "    return"
   ]
  },
  {
   "cell_type": "code",
   "execution_count": 31,
   "metadata": {},
   "outputs": [
    {
     "name": "stdout",
     "output_type": "stream",
     "text": [
      "[1, 2, 3, 4, 7, 9, 10, 11, 14, 15, 16, 17, 18, 21, 22, 23, 28, 29]\n",
      "[197.0, 199.0, 204.8, 206.4, 209.0, 210.6, 207.8, 207.0, 207.0, 207.0, 206.2, 206.2, 204.0, 201.8, 197.0, 197.5, 193.3, 195.2]\n",
      "\n",
      "\n"
     ]
    },
    {
     "data": {
      "image/png": "[encoded data removed]",
      "text/plain": [
       "<Figure size 432x288 with 1 Axes>"
      ]
     },
     "metadata": {
      "needs_background": "light"
     },
     "output_type": "display_data"
    },
    {
     "name": "stdout",
     "output_type": "stream",
     "text": [
      "The stock open price for 29th of December is: $ 198.7398260869565\n",
      "The regression coefficient is  -0.292217391304348 , and the constant is  207.2141304347826\n",
      "the relationship equation between dates and prices is: price =  -0.292217391304348 * date +  207.2141304347826\n"
     ]
    }
   ],
   "source": [
    "get_data('Jollibee.csv') # calling get_data method by passing the csv file to it\n",
    "print(dates)\n",
    "print(prices)\n",
    "print(\"\\n\")\n",
    " \n",
    "show_plot(dates,prices) \n",
    "\n",
    "\n",
    "predicted_price, coefficient, constant = predict_price(dates,prices,29)  \n",
    "print (\"The stock open price for the next opening: P\",str(predicted_price))\n",
    "print (\"The regression coefficient is \",str(coefficient),\", and the constant is \", str(constant))\n",
    "print (\"the relationship equation between dates and prices is: price = \",str(coefficient),\"* date + \",str(constant))"
   ]
  },
  {
   "cell_type": "code",
   "execution_count": null,
   "metadata": {},
   "outputs": [],
   "source": []
  }
 ],
 "metadata": {
  "kernelspec": {
   "display_name": "Python 3",
   "language": "python",
   "name": "python3"
  },
  "language_info": {
   "codemirror_mode": {
    "name": "ipython",
    "version": 3
   },
   "file_extension": ".py",
   "mimetype": "text/x-python",
   "name": "python",
   "nbconvert_exporter": "python",
   "pygments_lexer": "ipython3",
   "version": "3.8.3"
  }
 },
 "nbformat": 4,
 "nbformat_minor": 4
}
