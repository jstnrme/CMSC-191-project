{
 "cells": [
  {
   "cell_type": "markdown",
   "metadata": {},
   "source": [
    "## Text Processing"
   ]
  },
  {
   "cell_type": "code",
   "execution_count": 161,
   "metadata": {},
   "outputs": [],
   "source": [
    "from sklearn.feature_extraction.text import CountVectorizer, TfidfVectorizer\n",
    "import os"
   ]
  },
  {
   "cell_type": "code",
   "execution_count": 162,
   "metadata": {},
   "outputs": [
    {
     "name": "stdout",
     "output_type": "stream",
     "text": [
      "C:\\Users\\Asus\n"
     ]
    }
   ],
   "source": [
    "print(os.getcwd())"
   ]
  },
  {
   "cell_type": "code",
   "execution_count": 163,
   "metadata": {},
   "outputs": [],
   "source": [
    "data = [open(os.path.join('Jollibee',f)).read() for f in os.listdir(\"C:\\\\Users\\\\Asus\\\\Jollibee\")]"
   ]
  },
  {
   "cell_type": "code",
   "execution_count": 164,
   "metadata": {},
   "outputs": [],
   "source": [
    "vectorizer = CountVectorizer(max_df=.8)"
   ]
  },
  {
   "cell_type": "code",
   "execution_count": 165,
   "metadata": {},
   "outputs": [],
   "source": [
    "X_train = vectorizer.fit_transform(data)"
   ]
  },
  {
   "cell_type": "code",
   "execution_count": 166,
   "metadata": {},
   "outputs": [],
   "source": [
    "num_samples, num_features = X_train.shape"
   ]
  },
  {
   "cell_type": "code",
   "execution_count": 167,
   "metadata": {},
   "outputs": [
    {
     "name": "stdout",
     "output_type": "stream",
     "text": [
      "#samples: 18, #features: 79\n"
     ]
    }
   ],
   "source": [
    "print(\"#samples: %d, #features: %d\" % (num_samples, num_features))"
   ]
  },
  {
   "cell_type": "markdown",
   "metadata": {},
   "source": [
    "## Stemming and tf-idf"
   ]
  },
  {
   "cell_type": "code",
   "execution_count": 168,
   "metadata": {},
   "outputs": [],
   "source": [
    "import nltk.stem\n",
    "english_stemmer = nltk.stem.SnowballStemmer('english')\n",
    "class StemmedTfidfVectorizer(TfidfVectorizer):\n",
    "    def build_analyze(self):\n",
    "        analyser = super(TfidfVectorizer,self).build_analyzer()\n",
    "        return lambda doc: (english_stemmer.stem(w) for w in analyser(doc))"
   ]
  },
  {
   "cell_type": "markdown",
   "metadata": {},
   "source": [
    "## SVM"
   ]
  },
  {
   "cell_type": "code",
   "execution_count": 169,
   "metadata": {},
   "outputs": [],
   "source": [
    "import numpy as np\n",
    "import matplotlib.pyplot as plt\n",
    "from sklearn import svm\n",
    "import sklearn.metrics as metrics\n",
    "import array as arr"
   ]
  },
  {
   "cell_type": "markdown",
   "metadata": {},
   "source": [
    "Setting X as the input and y as the vector labels where 1 means there will be an increase and 0 means decrease"
   ]
  },
  {
   "cell_type": "code",
   "execution_count": 170,
   "metadata": {},
   "outputs": [],
   "source": [
    "X = X_train\n",
    "y = arr.array('i',[1,1,1,1,1,1,0,0,0,0,0,0,0,0,0,1,0,1])"
   ]
  },
  {
   "cell_type": "markdown",
   "metadata": {},
   "source": [
    "Splitting the data"
   ]
  },
  {
   "cell_type": "code",
   "execution_count": 171,
   "metadata": {},
   "outputs": [],
   "source": [
    "from sklearn.model_selection import train_test_split\n",
    "X_train, X_test, y_train, y_test = train_test_split(X, y, test_size = 1/3)"
   ]
  },
  {
   "cell_type": "code",
   "execution_count": 172,
   "metadata": {},
   "outputs": [],
   "source": [
    "#Set penalty for misclassification\n",
    "C=1.0"
   ]
  },
  {
   "cell_type": "code",
   "execution_count": 173,
   "metadata": {},
   "outputs": [],
   "source": [
    "# using dot product kernel\n",
    "lin_svc = svm.SVC(kernel='linear', C=C). fit(X_train,y_train)\n",
    "#using gaussian kernel\n",
    "rbf_svc = svm.SVC(kernel='rbf', gamma=0.7, C=C).fit(X_train,y_train)\n",
    "# using polynomial kernel of degree 3\n",
    "ploy_svc = svm.SVC(kernel='poly', degree=3, C=C).fit(X_train,y_train)"
   ]
  },
  {
   "cell_type": "code",
   "execution_count": 174,
   "metadata": {},
   "outputs": [
    {
     "data": {
      "text/plain": [
       "<11x79 sparse matrix of type '<class 'numpy.float64'>'\n",
       "\twith 71 stored elements in Compressed Sparse Row format>"
      ]
     },
     "execution_count": 174,
     "metadata": {},
     "output_type": "execute_result"
    }
   ],
   "source": [
    "lin_svc.support_vectors_"
   ]
  },
  {
   "cell_type": "markdown",
   "metadata": {},
   "source": [
    "Suppose we test for the date December 29, 2020"
   ]
  },
  {
   "cell_type": "code",
   "execution_count": 175,
   "metadata": {},
   "outputs": [],
   "source": [
    "newdata = '12 29 20 195.20 193.40 197.00 193.30 702.46K 0.98%'"
   ]
  },
  {
   "cell_type": "code",
   "execution_count": 176,
   "metadata": {},
   "outputs": [],
   "source": [
    "newdata_vec = vectorizer.transform([newdata])"
   ]
  },
  {
   "cell_type": "code",
   "execution_count": 177,
   "metadata": {},
   "outputs": [],
   "source": [
    "vectorizer = CountVectorizer()"
   ]
  },
  {
   "cell_type": "code",
   "execution_count": 178,
   "metadata": {},
   "outputs": [
    {
     "data": {
      "text/plain": [
       "(1, 79)"
      ]
     },
     "execution_count": 178,
     "metadata": {},
     "output_type": "execute_result"
    }
   ],
   "source": [
    "newdata_vec.shape"
   ]
  },
  {
   "cell_type": "code",
   "execution_count": 179,
   "metadata": {},
   "outputs": [],
   "source": [
    "linpred = lin_svc.predict(newdata_vec)"
   ]
  },
  {
   "cell_type": "code",
   "execution_count": 180,
   "metadata": {},
   "outputs": [],
   "source": [
    "y_linpred = lin_svc.predict(X_test)"
   ]
  },
  {
   "cell_type": "code",
   "execution_count": 181,
   "metadata": {},
   "outputs": [
    {
     "data": {
      "text/plain": [
       "<12x79 sparse matrix of type '<class 'numpy.float64'>'\n",
       "\twith 78 stored elements in Compressed Sparse Row format>"
      ]
     },
     "execution_count": 181,
     "metadata": {},
     "output_type": "execute_result"
    }
   ],
   "source": [
    "rbf_svc.support_vectors_"
   ]
  },
  {
   "cell_type": "code",
   "execution_count": 182,
   "metadata": {},
   "outputs": [],
   "source": [
    "rbfpred = rbf_svc.predict(newdata_vec)"
   ]
  },
  {
   "cell_type": "code",
   "execution_count": 183,
   "metadata": {},
   "outputs": [],
   "source": [
    "y_rbfpred = rbf_svc.predict(X_test)"
   ]
  },
  {
   "cell_type": "code",
   "execution_count": 184,
   "metadata": {},
   "outputs": [
    {
     "data": {
      "text/plain": [
       "<12x79 sparse matrix of type '<class 'numpy.float64'>'\n",
       "\twith 78 stored elements in Compressed Sparse Row format>"
      ]
     },
     "execution_count": 184,
     "metadata": {},
     "output_type": "execute_result"
    }
   ],
   "source": [
    "ploy_svc.support_vectors_"
   ]
  },
  {
   "cell_type": "code",
   "execution_count": 185,
   "metadata": {},
   "outputs": [],
   "source": [
    "polypred = ploy_svc.predict(newdata_vec)"
   ]
  },
  {
   "cell_type": "code",
   "execution_count": 186,
   "metadata": {},
   "outputs": [],
   "source": [
    "y_polypred = ploy_svc.predict(X_test)"
   ]
  },
  {
   "cell_type": "code",
   "execution_count": 187,
   "metadata": {},
   "outputs": [
    {
     "name": "stdout",
     "output_type": "stream",
     "text": [
      "To summarize, the result for C =  1.0 in each kernel follows: \n",
      "Using Dot Product Kernel\n",
      "The prediction is:  increase\n",
      "Accuracy:  0.8333333333333334\n",
      "Precision: 1.0\n",
      "\n",
      "Using Gaussian Kernel\n",
      "The prediction is:  increase\n",
      "Accuracy:  0.5\n",
      "Precision: 0.0\n",
      "\n",
      "Using Polynomial Kernel of degree 3\n",
      "The prediction is:  increase\n",
      "Accuracy:  0.5\n",
      "Precision: 0.0\n"
     ]
    }
   ],
   "source": [
    "print(\"To summarize, the result for C = \",C,\"in each kernel follows: \")\n",
    "print(\"Using Dot Product Kernel\")\n",
    "print(\"The prediction is: \", 'increase' if linpred[0]==1 else 'decrease')\n",
    "print(\"Accuracy: \", metrics.accuracy_score(y_test, y_linpred))\n",
    "print(\"Precision:\", metrics.precision_score(y_test, y_linpred))\n",
    "print(\"\\nUsing Gaussian Kernel\")\n",
    "print(\"The prediction is: \", 'increase' if linpred[0]==1 else 'decrease')\n",
    "print(\"Accuracy: \", metrics.accuracy_score(y_test, y_rbfpred))\n",
    "print(\"Precision:\", metrics.precision_score(y_test, y_rbfpred))\n",
    "print(\"\\nUsing Polynomial Kernel of degree 3\")\n",
    "print(\"The prediction is: \", 'increase' if linpred[0]==1 else 'decrease')\n",
    "print(\"Accuracy: \", metrics.accuracy_score(y_test, y_polypred))\n",
    "print(\"Precision:\", metrics.precision_score(y_test, y_polypred))"
   ]
  },
  {
   "cell_type": "markdown",
   "metadata": {},
   "source": [
    "#### Above is the result for C = 1.0. "
   ]
  },
  {
   "cell_type": "code",
   "execution_count": 188,
   "metadata": {},
   "outputs": [],
   "source": [
    "#Set penalty for misclassification\n",
    "C=10"
   ]
  },
  {
   "cell_type": "code",
   "execution_count": 189,
   "metadata": {},
   "outputs": [],
   "source": [
    "# using dot product kernel\n",
    "lin_svc = svm.SVC(kernel='linear', C=C). fit(X_train,y_train)\n",
    "#using gaussian kernel\n",
    "rbf_svc = svm.SVC(kernel='rbf', gamma=0.7, C=C).fit(X_train,y_train)\n",
    "# using polynomial kernel of degree 3\n",
    "ploy_svc = svm.SVC(kernel='poly', degree=3, C=C).fit(X_train,y_train)"
   ]
  },
  {
   "cell_type": "code",
   "execution_count": 190,
   "metadata": {},
   "outputs": [],
   "source": [
    "lin_svc.support_vectors_\n",
    "linpred = lin_svc.predict(newdata_vec)\n",
    "y_linpred = lin_svc.predict(X_test)"
   ]
  },
  {
   "cell_type": "code",
   "execution_count": 191,
   "metadata": {},
   "outputs": [],
   "source": [
    "rbf_svc.support_vectors_\n",
    "rbfpred = rbf_svc.predict(newdata_vec)\n",
    "y_rbfpred = rbf_svc.predict(X_test)"
   ]
  },
  {
   "cell_type": "code",
   "execution_count": 192,
   "metadata": {},
   "outputs": [],
   "source": [
    "ploy_svc.support_vectors_\n",
    "polypred = ploy_svc.predict(newdata_vec)\n",
    "y_polypred = ploy_svc.predict(X_test)"
   ]
  },
  {
   "cell_type": "code",
   "execution_count": 193,
   "metadata": {},
   "outputs": [
    {
     "name": "stdout",
     "output_type": "stream",
     "text": [
      "To summarize, the result for C =  10 in each kernel follows: \n",
      "Using Dot Product Kernel\n",
      "The prediction is:  increase\n",
      "Accuracy:  0.8333333333333334\n",
      "Precision: 1.0\n",
      "\n",
      "Using Gaussian Kernel\n",
      "The prediction is:  increase\n",
      "Accuracy:  0.5\n",
      "Precision: 0.0\n",
      "\n",
      "Using Polynomial Kernel of degree 3\n",
      "The prediction is:  increase\n",
      "Accuracy:  0.6666666666666666\n",
      "Precision: 1.0\n"
     ]
    }
   ],
   "source": [
    "print(\"To summarize, the result for C = \",C,\"in each kernel follows: \")\n",
    "print(\"Using Dot Product Kernel\")\n",
    "print(\"The prediction is: \", 'increase' if linpred[0]==1 else 'decrease')\n",
    "print(\"Accuracy: \", metrics.accuracy_score(y_test, y_linpred))\n",
    "print(\"Precision:\", metrics.precision_score(y_test, y_linpred))\n",
    "print(\"\\nUsing Gaussian Kernel\")\n",
    "print(\"The prediction is: \", 'increase' if linpred[0]==1 else 'decrease')\n",
    "print(\"Accuracy: \", metrics.accuracy_score(y_test, y_rbfpred))\n",
    "print(\"Precision:\", metrics.precision_score(y_test, y_rbfpred))\n",
    "print(\"\\nUsing Polynomial Kernel of degree 3\")\n",
    "print(\"The prediction is: \", 'increase' if linpred[0]==1 else 'decrease')\n",
    "print(\"Accuracy: \", metrics.accuracy_score(y_test, y_polypred))\n",
    "print(\"Precision:\", metrics.precision_score(y_test, y_polypred))"
   ]
  }
 ],
 "metadata": {
  "kernelspec": {
   "display_name": "Python [conda env:tensorflow] *",
   "language": "python",
   "name": "conda-env-tensorflow-py"
  },
  "language_info": {
   "codemirror_mode": {
    "name": "ipython",
    "version": 3
   },
   "file_extension": ".py",
   "mimetype": "text/x-python",
   "name": "python",
   "nbconvert_exporter": "python",
   "pygments_lexer": "ipython3",
   "version": "3.6.12"
  }
 },
 "nbformat": 4,
 "nbformat_minor": 4
}
